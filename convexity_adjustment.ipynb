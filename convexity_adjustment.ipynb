{
  "nbformat": 4,
  "nbformat_minor": 0,
  "metadata": {
    "colab": {
      "provenance": [],
      "authorship_tag": "ABX9TyORvvYmYc80sxwgy6KZCMJy",
      "include_colab_link": true
    },
    "kernelspec": {
      "name": "python3",
      "display_name": "Python 3"
    },
    "language_info": {
      "name": "python"
    }
  },
  "cells": [
    {
      "cell_type": "markdown",
      "metadata": {
        "id": "view-in-github",
        "colab_type": "text"
      },
      "source": [
        "<a href=\"https://colab.research.google.com/github/newmantic/convexity_adjustment/blob/main/convexity_adjustment.ipynb\" target=\"_parent\"><img src=\"https://colab.research.google.com/assets/colab-badge.svg\" alt=\"Open In Colab\"/></a>"
      ]
    },
    {
      "cell_type": "code",
      "execution_count": 1,
      "metadata": {
        "id": "XO3lETXfghf7"
      },
      "outputs": [],
      "source": [
        "import numpy as np\n",
        "\n",
        "def calculate_convexity(cash_flows, times, discount_rate):\n",
        "    \"\"\"\n",
        "    Calculate the convexity of a bond.\n",
        "\n",
        "    Args:\n",
        "        cash_flows (list): List of cash flows from the bond.\n",
        "        times (list): List of times (in years) at which the cash flows are received.\n",
        "        discount_rate (float): The discount rate or yield to maturity.\n",
        "\n",
        "    Returns:\n",
        "        float: The convexity of the bond.\n",
        "    \"\"\"\n",
        "    pv_cash_flows = [cf / (1 + discount_rate) ** t for cf, t in zip(cash_flows, times)]\n",
        "    total_pv = np.sum(pv_cash_flows)\n",
        "\n",
        "    convexity = np.sum([pv_cf * t * (t + 1) / (1 + discount_rate) ** 2 for pv_cf, t in zip(pv_cash_flows, times)]) / total_pv\n",
        "\n",
        "    return convexity"
      ]
    },
    {
      "cell_type": "code",
      "source": [
        "def convexity_adjusted_price_change(duration, convexity, yield_change):\n",
        "    \"\"\"\n",
        "    Calculate the convexity-adjusted price change of a bond.\n",
        "\n",
        "    Args:\n",
        "        duration (float): The modified duration of the bond.\n",
        "        convexity (float): The convexity of the bond.\n",
        "        yield_change (float): The change in yield.\n",
        "\n",
        "    Returns:\n",
        "        float: The estimated price change.\n",
        "    \"\"\"\n",
        "    price_change = -duration * yield_change + 0.5 * convexity * (yield_change ** 2)\n",
        "    return price_change"
      ],
      "metadata": {
        "id": "_m__L0oYgsXt"
      },
      "execution_count": 2,
      "outputs": []
    },
    {
      "cell_type": "code",
      "source": [
        "# Example bond with annual cash flows of $100 for 3 years and $1000 at maturity\n",
        "cash_flows = [100, 100, 1100]\n",
        "times = [1, 2, 3]  # Years\n",
        "discount_rate = 0.05  # 5% discount rate\n",
        "\n",
        "convexity = calculate_convexity(cash_flows, times, discount_rate)\n",
        "print(f\"Convexity: {convexity:.4f}\")"
      ],
      "metadata": {
        "colab": {
          "base_uri": "https://localhost:8080/"
        },
        "id": "caK6jlkpgvqq",
        "outputId": "532122ce-9135-47ee-e499-a6d7c804051a"
      },
      "execution_count": 3,
      "outputs": [
        {
          "output_type": "stream",
          "name": "stdout",
          "text": [
            "Convexity: 9.6896\n"
          ]
        }
      ]
    },
    {
      "cell_type": "code",
      "source": [
        "# Assuming duration = 2.8 (from a previous calculation)\n",
        "duration = 2.8\n",
        "# Using the convexity calculated from the previous example\n",
        "convexity = 6.2  # Example convexity value\n",
        "\n",
        "yield_change = 0.01  # 1% change in yield\n",
        "\n",
        "price_change = convexity_adjusted_price_change(duration, convexity, yield_change)\n",
        "print(f\"Estimated Price Change: {price_change:.4f}\")"
      ],
      "metadata": {
        "colab": {
          "base_uri": "https://localhost:8080/"
        },
        "id": "01ZD5w2tgzuw",
        "outputId": "3c091328-781f-417f-9934-238cfb0ac813"
      },
      "execution_count": 4,
      "outputs": [
        {
          "output_type": "stream",
          "name": "stdout",
          "text": [
            "Estimated Price Change: -0.0277\n"
          ]
        }
      ]
    }
  ]
}